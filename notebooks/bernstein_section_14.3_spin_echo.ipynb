{
 "cells": [
  {
   "attachments": {},
   "cell_type": "markdown",
   "metadata": {},
   "source": [
    "# Handbook of MRI Pulse Sequences: Section 3.3 Refocusing Pulses\n",
    "\n",
    "In this notebook we will atempt to understand the basic components of a refocusing pulse.\n",
    "\n",
    "Note: Select \"Run\" above to run all cells, or press \"shift + enter\"\n",
    "\n",
    "First we need to install required packages. Might take a minute or two:"
   ]
  },
  {
   "cell_type": "code",
   "execution_count": null,
   "metadata": {},
   "outputs": [],
   "source": [
    "!pip install -q numpy matplotlib scipy ipywidgets sycomore"
   ]
  },
  {
   "cell_type": "code",
   "execution_count": 2,
   "metadata": {},
   "outputs": [],
   "source": [
    "import numpy as np\n",
    "import matplotlib.pyplot as plt\n",
    "import ipywidgets as widgets\n",
    "from IPython.display import display\n",
    "\n",
    "import sycomore\n",
    "from sycomore import units"
   ]
  },
  {
   "cell_type": "code",
   "execution_count": 3,
   "metadata": {},
   "outputs": [],
   "source": [
    "def get_inhomogeneity(B0=3, inhomogeneity_ppm=0.0):\n",
    "\n",
    "    # Define the gyromagnetic ratio for protons (42.58 MHz/T)\n",
    "    gyromagnetic_ratio = 42.58e6  # Hz/T\n",
    "\n",
    "    freq_rot = gyromagnetic_ratio * B0 # resonant frequency \n",
    "    freq = gyromagnetic_ratio * B0 * (1 - inhomogeneity_ppm) \n",
    "\n",
    "    delta_freq = (freq - freq_rot)*1e-6 # convert from ppm\n",
    "\n",
    "    return delta_freq*units.Hz "
   ]
  },
  {
   "cell_type": "code",
   "execution_count": 4,
   "metadata": {},
   "outputs": [],
   "source": [
    "def get_species(T1, T2, delta_omega=0*units.Hz):   \n",
    "    species = sycomore.Species(T1, T2, delta_omega=delta_omega)\n",
    "    return species\n",
    "\n",
    "def update_and_record_magnetization(M, record, t, update=None):\n",
    "    if update is not None: M = update @ M\n",
    "    record.append([t.convert_to(units.ms), M[:3] / M[3]])\n",
    "    return M"
   ]
  },
  {
   "cell_type": "code",
   "execution_count": 17,
   "metadata": {},
   "outputs": [
    {
     "data": {
      "text/plain": [
       "4.99889 [ T^-1 ]"
      ]
     },
     "execution_count": 17,
     "metadata": {},
     "output_type": "execute_result"
    }
   ],
   "source": [
    "gyromagnetic_ratio = 42.58e6  * units.Hz / units.T \n",
    "duration = 1 * units.ms \n",
    "amplitude = 1.174*units.mT/units.m\n",
    "location = 0.1 * units.mm\n",
    "gyromagnetic_ratio*amplitude*location"
   ]
  },
  {
   "cell_type": "code",
   "execution_count": 43,
   "metadata": {},
   "outputs": [],
   "source": [
    "interval = sycomore.TimeInterval(1*units.ms, 20*units.mT/units.m)"
   ]
  },
  {
   "cell_type": "code",
   "execution_count": 44,
   "metadata": {},
   "outputs": [
    {
     "data": {
      "text/plain": [
       "<sycomore._sycomore.TimeInterval at 0x7f4df29b35f0>"
      ]
     },
     "execution_count": 44,
     "metadata": {},
     "output_type": "execute_result"
    }
   ],
   "source": [
    "interval"
   ]
  },
  {
   "cell_type": "code",
   "execution_count": 51,
   "metadata": {},
   "outputs": [],
   "source": [
    "T1 = 1000 * units.ms\n",
    "T2 = 100 * units.ms\n",
    "species = get_species(T1, T2)\n",
    "step_size = 1 * units.ms \n",
    "gradient_amplitude = 1*units.mT/units.m\n",
    "idle = sycomore.bloch.time_interval(species, step_size, gradient_amplitude=gradient_amplitude, position=1.0*np.random.randn()*units.mm)"
   ]
  },
  {
   "cell_type": "code",
   "execution_count": 52,
   "metadata": {},
   "outputs": [
    {
     "data": {
      "text/plain": [
       "array([[ 0.99,  0.04,  0.  ,  0.  ],\n",
       "       [-0.04,  0.99,  0.  ,  0.  ],\n",
       "       [ 0.  ,  0.  ,  1.  ,  0.  ],\n",
       "       [ 0.  ,  0.  ,  0.  ,  1.  ]])"
      ]
     },
     "execution_count": 52,
     "metadata": {},
     "output_type": "execute_result"
    }
   ],
   "source": [
    "idle.round(2)"
   ]
  },
  {
   "cell_type": "code",
   "execution_count": 91,
   "metadata": {},
   "outputs": [],
   "source": [
    "def run_simulation(T1_ms, T2_ms, flip_angle_deg, step_size_ms, n_species, gradient_amplitude_mT_m, position_mm, time_post_refocus):\n",
    "    \n",
    "    delta_omega = get_inhomogeneity(B0=3, inhomogeneity_ppm=-0.2)\n",
    "\n",
    "    T1 = T1_ms * units.ms\n",
    "    T2 = T2_ms * units.ms\n",
    "    n_species = int(n_species)\n",
    "\n",
    "    species_baseline = [get_species(T1, T2, delta_omega=-delta_omega)]\n",
    "    species_ensemble = species_baseline + [get_species(T1, T2, delta_omega=delta_omega*np.random.randn()) for _ in range(n_species-1)]\n",
    "\n",
    "    # temporal resolution of experiment \n",
    "    step_size = step_size_ms * units.ms \n",
    "\n",
    "    # nothing occurs during this time, only dephasing\n",
    "    idles = [sycomore.bloch.time_interval(species, step_size) for species in species_ensemble]\n",
    "\n",
    "    # dephasing due to delta_omega and gradient\n",
    "    gradient_amplitude = gradient_amplitude_mT_m*units.mT/units.m\n",
    "    grads = [sycomore.bloch.time_interval(species, step_size, gradient_amplitude=gradient_amplitude, position=position_mm*np.random.randn()*units.mm) for species in species_ensemble]\n",
    "\n",
    "    pulse = sycomore.bloch.pulse(flip_angle_deg * units.deg, phase=np.pi*units.rad)\n",
    "\n",
    "    flip_angle_refocus_deg = 180\n",
    "    pulse_refocus = sycomore.bloch.pulse(flip_angle_refocus_deg * units.deg, phase=np.pi*units.rad/2) \n",
    "\n",
    "    # initialize the spins\n",
    "    t = 0 * units.s\n",
    "\n",
    "    M = [np.array([0, 0, 1, 1]) for _ in range(n_species)]\n",
    "\n",
    "    records = [[[t.convert_to(units.ms), m[:3] / m[3]]] for m in M]\n",
    "\n",
    "    for k in range(n_species):\n",
    "        M[k] = update_and_record_magnetization(M[k], records[k], t, update=pulse)\n",
    "\n",
    "    # Update and record magnetization for the next 100 steps\n",
    "    for _ in range(45):\n",
    "        t += step_size\n",
    "        for k in range(n_species):\n",
    "            M[k] = update_and_record_magnetization(M[k], records[k], t, update=idles[k])\n",
    "        \n",
    "    grad_tau_pre = t.convert_to(units.ms)\n",
    "    for _ in range(10):\n",
    "        t += step_size\n",
    "        for k in range(n_species):\n",
    "            M[k] = update_and_record_magnetization(M[k], records[k], t, update=grads[k])\n",
    "\n",
    "    # Update and record magnetization for the next 100 steps\n",
    "    for _ in range(45):\n",
    "        t += step_size\n",
    "        for k in range(n_species):\n",
    "            M[k] = update_and_record_magnetization(M[k], records[k], t, update=idles[k])\n",
    "        \n",
    "    # apply 180 degree refocusing pulse\n",
    "    tau = t.convert_to(units.ms)\n",
    "    for k in range(n_species):\n",
    "        M[k] = update_and_record_magnetization(M[k], records[k], t, update=pulse_refocus)\n",
    "\n",
    "    # Update and record magnetization for the next 50 steps\n",
    "    for _ in range(int(time_post_refocus)):\n",
    "        t += step_size\n",
    "        for k in range(n_species):\n",
    "            M[k] = update_and_record_magnetization(M[k], records[k], t, update=idles[k])\n",
    "\n",
    "    grad_tau_post = t.convert_to(units.ms)\n",
    "    for _ in range(10):\n",
    "        t += step_size\n",
    "        for k in range(n_species):\n",
    "            M[k] = update_and_record_magnetization(M[k], records[k], t, update=grads[k])\n",
    "\n",
    "    # Update and record magnetization for the next 100 steps\n",
    "    for _ in range(100):\n",
    "        t += step_size\n",
    "        for k in range(n_species):\n",
    "            M[k] = update_and_record_magnetization(M[k], records[k], t, update=idles[k])\n",
    "            \n",
    "    magnetization = []\n",
    "    #magnetization_predicted = []\n",
    "    for species, record in zip(species_ensemble[::-1], records[::-1]):\n",
    "        time, magnetization_k = list(zip(*record))\n",
    "        magnetization_k = np.array(magnetization_k)\n",
    "\n",
    "        #M_pred = calculate_magnetization_post_refocusing(M_post=magnetization_k[-300], time_ms=time[-300:], tau=tau, species=species)\n",
    "        #magnetization_predicted.append(M_pred)\n",
    "        magnetization.append(np.array(magnetization_k))\n",
    "\n",
    "    magnetization = np.stack(magnetization).mean(axis=0)\n",
    "    #magnetization_predicted = np.stack(magnetization_predicted).mean(axis=0)\n",
    "\n",
    "    \n",
    "\n",
    "    fig, ax = plt.subplots(1,2,figsize=(20,10))\n",
    "    fontsize = 20\n",
    "    for label, j in zip(['M_x', 'M_y'], [0, 1]):\n",
    "        ax[j].plot(time, np.linalg.norm(magnetization_k[:, :2], axis=-1), label=\"Species k $M_\\perp$\", color='black', linewidth=4)\n",
    "        ax[j].plot(time, np.linalg.norm(magnetization[:, :2], axis=-1), label=\"Species Ensemble $M_\\perp$\", color='#F25050', linewidth=1)\n",
    "        #ax[j].plot(time[-300:], np.linalg.norm(magnetization_predicted[:, :2], axis=-1), label=\"Species Ensemble Pred $M_\\perp$\", color='blue', linewidth=4, linestyle='--')\n",
    "        ax[j].plot(time, magnetization_k[:, j], label=\"Species k $%s$\"%(label), color='black', linewidth=1)\n",
    "        ax[j].plot(time, magnetization[:, j], label=\"Species Ensemble $%s$\"%(label), color='#F25050', linewidth=1, linestyle='--')\n",
    "        #ax[j].plot(time[-300:], magnetization_predicted[:, j], label=\"Species Ensemble Pred $%s$\"%(label), color='blue', linewidth=1, linestyle='--')\n",
    "        ax[j].axvline(x=tau, color='black')\n",
    "        ax[j].axvline(x=tau*2, color='black')\n",
    "        ax[j].axvline(x=grad_tau_pre, color='red', linestyle='--', alpha=0.5)\n",
    "        ax[j].axvline(x=grad_tau_post, color='red', linestyle='--', alpha=0.5)\n",
    "        ax[j].axvline(x=grad_tau_post+step_size_ms*10, color='red', linestyle='--', alpha=0.5)\n",
    "        ax[j].axvline(x=grad_tau_post+step_size_ms*20, color='red', linestyle='--', alpha=0.5)\n",
    "        ax[j].text(tau, -0.8, 'TE/2', fontsize=fontsize)\n",
    "        ax[j].text(tau*2, -0.8, 'TE', fontsize=fontsize)\n",
    "        ax[j].set_xlabel(\"Time (ms)\", fontsize=fontsize)\n",
    "        ax[j].set_ylabel(\"$M/M_0$\", fontsize=fontsize)\n",
    "        ax[j].legend(loc='best', fontsize='large')\n",
    "        ax[j].set_ylim(-1,1)\n",
    "\n",
    "    plt.show()"
   ]
  },
  {
   "cell_type": "code",
   "execution_count": 92,
   "metadata": {},
   "outputs": [
    {
     "data": {
      "application/vnd.jupyter.widget-view+json": {
       "model_id": "a6509c2210cf46009498efb655cfc034",
       "version_major": 2,
       "version_minor": 0
      },
      "text/plain": [
       "interactive(children=(FloatSlider(value=1000.0, description='T1 (ms)', max=2000.0, min=100.0, step=10.0), Floa…"
      ]
     },
     "metadata": {},
     "output_type": "display_data"
    },
    {
     "data": {
      "text/plain": [
       "<function __main__.run_simulation(T1_ms, T2_ms, flip_angle_deg, step_size_ms, n_species, gradient_amplitude_mT_m, position_mm, time_post_refocus)>"
      ]
     },
     "execution_count": 92,
     "metadata": {},
     "output_type": "execute_result"
    }
   ],
   "source": [
    "widgets.interact(\n",
    "    run_simulation,\n",
    "    T1_ms=widgets.FloatSlider(min=100, max=2000, step=10, value=1000, description='T1 (ms)'),\n",
    "    T2_ms=widgets.FloatSlider(min=10, max=200, step=1, value=88, description='T2 (ms)'),\n",
    "    flip_angle_deg=widgets.FloatSlider(min=0, max=180, step=1, value=90, description='FA 1 (deg)'),\n",
    "    step_size_ms=widgets.FloatSlider(min=0.1, max=10, step=0.1, value=0.7, description='Step size (ms)'),\n",
    "    n_species=widgets.FloatSlider(min=1, max=1000, step=1, value=1000, description='n spins'), \n",
    "    gradient_amplitude_mT_m=widgets.FloatSlider(min=0, max=6, step=0.1, value=0.6, description='Gradient'), \n",
    "    position_mm=widgets.FloatSlider(min=0, max=6, step=0.1, value=1.3, description='Position (mm)'), \n",
    "    time_post_refocus=widgets.FloatSlider(min=45, max=150, step=1, value=96, description='Time Post')\n",
    ")"
   ]
  },
  {
   "cell_type": "code",
   "execution_count": null,
   "metadata": {},
   "outputs": [],
   "source": []
  },
  {
   "cell_type": "code",
   "execution_count": null,
   "metadata": {},
   "outputs": [],
   "source": []
  },
  {
   "cell_type": "code",
   "execution_count": null,
   "metadata": {},
   "outputs": [],
   "source": []
  },
  {
   "cell_type": "code",
   "execution_count": null,
   "metadata": {},
   "outputs": [],
   "source": []
  }
 ],
 "metadata": {
  "kernelspec": {
   "display_name": "DL",
   "language": "python",
   "name": "python3"
  },
  "language_info": {
   "codemirror_mode": {
    "name": "ipython",
    "version": 3
   },
   "file_extension": ".py",
   "mimetype": "text/x-python",
   "name": "python",
   "nbconvert_exporter": "python",
   "pygments_lexer": "ipython3",
   "version": "3.7.12"
  },
  "orig_nbformat": 4,
  "vscode": {
   "interpreter": {
    "hash": "f0d150f794bfc5794d86731e6f2bb39e71687c9919f7e98cd7bae3cdcd0a1692"
   }
  }
 },
 "nbformat": 4,
 "nbformat_minor": 2
}
