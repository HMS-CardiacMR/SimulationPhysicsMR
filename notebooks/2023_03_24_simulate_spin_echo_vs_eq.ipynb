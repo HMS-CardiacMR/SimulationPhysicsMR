{
 "cells": [
  {
   "attachments": {},
   "cell_type": "markdown",
   "metadata": {},
   "source": [
    "Note: Select \"Run\" above to run all cells, or press \"shift + enter\"\n",
    "\n",
    "First we need to install required packages. Might take a minute or two:"
   ]
  },
  {
   "cell_type": "code",
   "execution_count": null,
   "metadata": {},
   "outputs": [],
   "source": [
    "!pip install -q numpy matplotlib scipy ipywidgets sycomore"
   ]
  },
  {
   "cell_type": "code",
   "execution_count": null,
   "metadata": {},
   "outputs": [],
   "source": [
    "import numpy as np\n",
    "import matplotlib.pyplot as plt\n",
    "import ipywidgets as widgets\n",
    "from IPython.display import display\n",
    "\n",
    "import sycomore\n",
    "from sycomore import units"
   ]
  },
  {
   "attachments": {},
   "cell_type": "markdown",
   "metadata": {},
   "source": [
    "Suppose a spin isochromat has magnetization $M_0$ and resonance offset $\\Delta \\omega = \\omega - \\omega_{ref}$, where $\\omega_{ref}$ is the angular frequency of the rotating frame. \n",
    "\n",
    "Immediately after an excitation pulse (flip angle = $\\theta_1$) along the x-axis, the magnetization of the spin isochromat can be described by:\n",
    "\n",
    "$$\\vec{M}(\\Delta \\omega, t = 0) = M_0 \\begin{bmatrix} 0 \\\\ \\sin \\theta_1 \\\\ \\sin \\theta_2 \\end{bmatrix}$$\n",
    "\n",
    "In general, $\\vec{M}$ can have a different Larmor frequency $\\omega$ than the rotating frame $\\omega_{ref}$, leading to non-zero values of $\\Delta \\omega$. Because of this resonance offset, $\\vec{M}$ precesses about the z-axis as described by:\n",
    "\n",
    "$$\\vec{M}(\\Delta \\omega, t) = M_0 \\begin{bmatrix} \n",
    "e^{-t/T_2}\\sin\\theta_1\\sin(\\Delta \\omega t)  \\\\ \n",
    "e^{-t/T_2}\\sin\\theta_1\\cos(\\Delta \\omega t)  \\\\ \n",
    "e^{-t/T_1}\\cos\\theta_1 + (1-e^{-t/T_1}) \\end{bmatrix}$$\n",
    "\n",
    "\n",
    "where the exponential terms account for the $T_1$ and $T_2$ relaxation effects. \n",
    "\n",
    "Let's implement this expression. Below, `dw` is the angular frequency shift $\\Delta \\omega = 2\\pi \\Delta f$."
   ]
  },
  {
   "cell_type": "code",
   "execution_count": 338,
   "metadata": {},
   "outputs": [],
   "source": [
    "def calculate_magnetization(time_ms, species, flip_angle):\n",
    "    \n",
    "    # Note: the sycomore packages defines a counterclockwise rotation for positive angles, whereas \n",
    "    # Bernstein defined a clockwise rotation for positive angles. Therefore, we need to invert the rotation here. \n",
    "    # ref: https://github.com/lamyj/sycomore/blob/master/src/sycomore/isochromat/Model.cpp\n",
    "    t = np.array(time_ms)\n",
    "\n",
    "    dw =  - 2 * np.pi * species.delta_omega.convert_to(units.Hz)\n",
    "    \n",
    "    E1 = np.exp(-t/species.T1.convert_to(units.ms))\n",
    "    E2 = np.exp(-t/species.T2.convert_to(units.ms))\n",
    "\n",
    "    Mx = E2 * np.sin(flip_angle.convert_to(units.rad)) * np.sin(dw*t*1e-3)\n",
    "    My = E2 * np.sin(flip_angle.convert_to(units.rad)) * np.cos(dw*t*1e-3)\n",
    "    Mz = E1 * np.cos(flip_angle.convert_to(units.rad)) + (1 - E1)\n",
    "\n",
    "    return np.stack((Mx, My, Mz), -1)"
   ]
  },
  {
   "attachments": {},
   "cell_type": "markdown",
   "metadata": {},
   "source": [
    "We will use the expression defined in Bernstein for a frequency shift:\n",
    "\n",
    "\n",
    "$$ f = \\frac{\\gamma}{2\\pi}B_0(1-\\delta)$$\n",
    "\n",
    "Therefore, \n",
    "\n",
    "$$ \\Delta f = f_{rot} -f $$ \n",
    "\n",
    "\n",
    "Let's implement this expression. Keep in mind $\\frac{\\gamma}{2\\pi} = 42.58\\times 10^6$ Hz."
   ]
  },
  {
   "cell_type": "code",
   "execution_count": 339,
   "metadata": {},
   "outputs": [],
   "source": [
    "def get_inhomogeneity(B0=3, inhomogeneity_ppm=0.0):\n",
    "\n",
    "    # Define the gyromagnetic ratio for protons (42.58 MHz/T)\n",
    "    gyromagnetic_ratio = 42.58e6  # Hz/T\n",
    "\n",
    "    freq_rot = gyromagnetic_ratio * B0 # resonant frequency \n",
    "    freq = gyromagnetic_ratio * B0 * (1 - inhomogeneity_ppm) \n",
    "\n",
    "    delta_freq = (freq - freq_rot)*1e-6 # convert from ppm\n",
    "\n",
    "    return delta_freq*units.Hz "
   ]
  },
  {
   "attachments": {},
   "cell_type": "markdown",
   "metadata": {},
   "source": [
    "Below are some convenient functions to define the species of the spin isochromat as well as to modifty/record the magnetization state "
   ]
  },
  {
   "cell_type": "code",
   "execution_count": 341,
   "metadata": {},
   "outputs": [],
   "source": [
    "def get_species(T1, T2, delta_omega=0*units.Hz):   \n",
    "    species = sycomore.Species(T1, T2, delta_omega=delta_omega)\n",
    "    return species\n",
    "\n",
    "def update_and_record_magnetization(M, record, t, update=None):\n",
    "    if update is not None: M = update @ M\n",
    "    record.append([t.convert_to(units.ms), M[:3] / M[3]])\n",
    "    return M"
   ]
  },
  {
   "attachments": {},
   "cell_type": "markdown",
   "metadata": {},
   "source": [
    "Let's simulate a simple excitation-recovery pulse and record the spin behavior."
   ]
  },
  {
   "cell_type": "code",
   "execution_count": 352,
   "metadata": {},
   "outputs": [],
   "source": [
    "\n",
    "\n",
    "def run_simulation(T1_ms, T2_ms, flip_angle_deg, step_size_ms):\n",
    "    \n",
    "    # define species of spin isochromat\n",
    "    # ---------------------------------\n",
    "\n",
    "    delta_omega = get_inhomogeneity(B0=3, inhomogeneity_ppm=0.2)\n",
    "\n",
    "    T1 = T1_ms * units.ms\n",
    "    T2 = T2_ms * units.ms\n",
    "\n",
    "    species = get_species(T1, T2, delta_omega=-delta_omega)\n",
    "\n",
    "    # initialize the spin state \n",
    "    t = 0 * units.ms\n",
    "    M = np.array([0, 0, 1, 1])\n",
    "    record = [[t.convert_to(units.ms), M[:3] / M[3]]]\n",
    "\n",
    "    # define experiment bloacks\n",
    "    # -------------------------\n",
    "\n",
    "    # temporal resolution of experiment \n",
    "    step_size = step_size_ms * units.ms \n",
    "\n",
    "    # nothing occurs during this time\n",
    "    idle = sycomore.bloch.time_interval(species, step_size) \n",
    "\n",
    "    # excitation pulse, phase implies it is along x-axis. Vector rotates about x-axis. If flip angle is 90 degrees, vector flip to +y-axis\n",
    "    flip_angle = flip_angle_deg * units.deg\n",
    "    pulse = sycomore.bloch.pulse(flip_angle, phase=np.pi*units.rad) \n",
    "\n",
    "    # define experiment blocks\n",
    "    # ------------------------\n",
    "\n",
    "    # apply pulse\n",
    "    M = update_and_record_magnetization(M, record, t, update=pulse)\n",
    "\n",
    "    # run 100 steps \n",
    "    for _ in range(100):\n",
    "        t += step_size\n",
    "        M = update_and_record_magnetization(M, record, t, update=idle)\n",
    "\n",
    "    time, magnetization = list(zip(*record))\n",
    "\n",
    "    magnetization = np.array(magnetization).round(3)\n",
    "\n",
    "    magnetization_predicted = calculate_magnetization(time, species, flip_angle)\n",
    "\n",
    "    plt.figure(figsize=(10,5))\n",
    "    plt.subplot(121)\n",
    "    plt.plot(time, magnetization[:, 0], label=\"Species $M_x$\", color='#6AD991')\n",
    "    plt.plot(time, magnetization_predicted[:,0], label=\"Species $M_x$ Predicted\", linestyle='--', color='#F25050')\n",
    "    plt.plot(time, magnetization[:, 2], label=\"Species $M_z$\", linestyle='dotted', color='#BF1515')\n",
    "    plt.plot(time, magnetization_predicted[:,2], label=\"Species $M_z$ Predicted\", linestyle='dashdot', color='#F2668B')\n",
    "    plt.plot(time, np.linalg.norm(magnetization[:, :2], axis=-1), label=\"Species $M_\\perp$\", color='black')\n",
    "    plt.ylim(-1,1)\n",
    "    plt.legend()\n",
    "\n",
    "    plt.subplot(122)\n",
    "    plt.plot(time, magnetization[:, 1], label=\"Species $M_y$\", color='#6AD991')\n",
    "    plt.plot(time, magnetization_predicted[:,1], label=\"Species $M_y$ Predicted\", linestyle='--', color='#F25050')\n",
    "    plt.plot(time, np.linalg.norm(magnetization[:, :2], axis=-1), label=\"Species $M_\\perp$\", color='black')\n",
    "    plt.ylim(-1,1)\n",
    "    plt.legend()\n",
    "\n",
    "    plt.tight_layout()\n",
    "    plt.show()\n"
   ]
  },
  {
   "cell_type": "code",
   "execution_count": 353,
   "metadata": {},
   "outputs": [
    {
     "data": {
      "application/vnd.jupyter.widget-view+json": {
       "model_id": "114668aaf8cd40b7a94f5b8f80510d40",
       "version_major": 2,
       "version_minor": 0
      },
      "text/plain": [
       "interactive(children=(FloatSlider(value=1000.0, description='T1 (ms)', max=2000.0, min=100.0, step=10.0), Floa…"
      ]
     },
     "metadata": {},
     "output_type": "display_data"
    },
    {
     "data": {
      "text/plain": [
       "<function __main__.run_simulation(T1_ms, T2_ms, flip_angle_deg, step_size_ms)>"
      ]
     },
     "execution_count": 353,
     "metadata": {},
     "output_type": "execute_result"
    }
   ],
   "source": [
    "widgets.interact(\n",
    "    run_simulation,\n",
    "    T1_ms=widgets.FloatSlider(min=100, max=2000, step=10, value=1000, description='T1 (ms)'),\n",
    "    T2_ms=widgets.FloatSlider(min=10, max=200, step=1, value=100, description='T2 (ms)'),\n",
    "    flip_angle_deg=widgets.FloatSlider(min=0, max=180, step=1, value=90, description='Flip angle (deg)'),\n",
    "    step_size_ms=widgets.FloatSlider(min=0.1, max=10, step=0.1, value=1, description='Step size (ms)')\n",
    ")"
   ]
  },
  {
   "cell_type": "code",
   "execution_count": 354,
   "metadata": {},
   "outputs": [
    {
     "data": {
      "text/plain": [
       "'/mnt/alp/Users/Manuel/manuscripts/LGE/code'"
      ]
     },
     "execution_count": 354,
     "metadata": {},
     "output_type": "execute_result"
    }
   ],
   "source": [
    "pwd"
   ]
  },
  {
   "cell_type": "code",
   "execution_count": null,
   "metadata": {},
   "outputs": [],
   "source": []
  },
  {
   "cell_type": "code",
   "execution_count": null,
   "metadata": {},
   "outputs": [],
   "source": [
    "\n",
    "delta_omega = get_inhomogeneity(B0=3, inhomogeneity_ppm=1)\n",
    "\n",
    "species_A = get_species(T1=1000 * units.ms, T2=100 * units.ms, delta_omega=delta_omega)\n",
    "species_B = get_species(T1=1000 * units.ms, T2=100 * units.ms, delta_omega=-delta_omega)\n",
    "\n",
    "flip_angle = 90 * units.deg\n",
    "\n",
    "idle_A = sycomore.bloch.time_interval(species_A, 10 * units.ms)\n",
    "idle_B = sycomore.bloch.time_interval(species_B, 10 * units.ms)\n",
    "pulse = sycomore.bloch.pulse(flip_angle)\n",
    "\n",
    "# initialize the spins\n",
    "t = 0 * units.s\n",
    "\n",
    "M_A = np.array([0, 0, 1, 1])\n",
    "M_B = np.array([0, 0, 1, 1])\n",
    "M_C = M_A + M_B\n",
    "\n",
    "record_A = [[t.convert_to(units.ms), M_A[:3] / M_A[3]]]\n",
    "record_B = [[t.convert_to(units.ms), M_B[:3] / M_B[3]]]\n",
    "record_C = [[t.convert_to(units.ms), M_C[:3] / M_C[3]]]\n",
    "\n",
    "# Update and record magnetization for the first 10 steps\n",
    "for _ in range(10):\n",
    "    t += 10 * units.ms\n",
    "    M_A = update_and_record_magnetization(M_A, idle_A, record_A, t)\n",
    "    M_B = update_and_record_magnetization(M_B, idle_B, record_B, t)\n",
    "    M_C = update_and_record_magnetization(M_A + M_B, None, record_C, t)\n",
    "    \n",
    "# Apply the pulse and record the magnetization\n",
    "M_A = update_and_record_magnetization(M_A, pulse, record_A, t)\n",
    "M_B = update_and_record_magnetization(M_B, pulse, record_B, t)\n",
    "M_C = update_and_record_magnetization(M_A + M_B, None, record_C, t)\n",
    "\n",
    "# Update and record magnetization for the next 100 steps\n",
    "for _ in range(100):\n",
    "    t += 10 * units.ms\n",
    "    \n",
    "    M_A = update_and_record_magnetization(M_A, idle_A, record_A, t)\n",
    "    M_B = update_and_record_magnetization(M_B, idle_B, record_B, t)\n",
    "    M_C = update_and_record_magnetization(M_A + M_B, None, record_C, t)\n"
   ]
  }
 ],
 "metadata": {
  "kernelspec": {
   "display_name": "DL",
   "language": "python",
   "name": "python3"
  },
  "language_info": {
   "codemirror_mode": {
    "name": "ipython",
    "version": 3
   },
   "file_extension": ".py",
   "mimetype": "text/x-python",
   "name": "python",
   "nbconvert_exporter": "python",
   "pygments_lexer": "ipython3",
   "version": "3.7.12"
  },
  "orig_nbformat": 4,
  "vscode": {
   "interpreter": {
    "hash": "f0d150f794bfc5794d86731e6f2bb39e71687c9919f7e98cd7bae3cdcd0a1692"
   }
  }
 },
 "nbformat": 4,
 "nbformat_minor": 2
}
