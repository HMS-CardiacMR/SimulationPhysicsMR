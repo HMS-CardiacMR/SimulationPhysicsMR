{
 "cells": [
  {
   "attachments": {},
   "cell_type": "markdown",
   "metadata": {},
   "source": [
    "# Handbook of MRI Pulse Sequences: Section 3.3 Refocusing Pulses\n",
    "\n",
    "In this notebook we will atempt to understand the basic components of a refocusing pulse.\n",
    "\n",
    "Note: Select \"Run\" above to run all cells, or press \"shift + enter\"\n",
    "\n",
    "First we need to install required packages. Might take a minute or two:"
   ]
  },
  {
   "cell_type": "code",
   "execution_count": null,
   "metadata": {},
   "outputs": [],
   "source": [
    "!pip install -q numpy matplotlib scipy ipywidgets sycomore"
   ]
  },
  {
   "cell_type": "code",
   "execution_count": 1,
   "metadata": {},
   "outputs": [],
   "source": [
    "import numpy as np\n",
    "import matplotlib.pyplot as plt\n",
    "import ipywidgets as widgets\n",
    "from IPython.display import display\n",
    "\n",
    "import sycomore\n",
    "from sycomore import units"
   ]
  },
  {
   "attachments": {},
   "cell_type": "markdown",
   "metadata": {},
   "source": [
    "## Part 1: Excitation and T2 decay of a single spin isochromat"
   ]
  },
  {
   "attachments": {},
   "cell_type": "markdown",
   "metadata": {},
   "source": [
    "Suppose a spin isochromat has magnetization $M_0$ and resonance offset $\\Delta \\omega = \\omega - \\omega_{ref}$, where $\\omega_{ref}$ is the angular frequency of the rotating frame. \n",
    "\n",
    "Immediately after an excitation pulse (flip angle = $\\theta_1$) along the x-axis, the magnetization of the spin isochromat can be described by:\n",
    "\n",
    "$$\\vec{M}(\\Delta \\omega, t = 0) = M_0 \\begin{bmatrix} 0 \\\\ \\sin \\theta_1 \\\\ \\sin \\theta_2 \\end{bmatrix}$$\n",
    "\n",
    "In general, $\\vec{M}$ can have a different Larmor frequency $\\omega$ than the rotating frame $\\omega_{ref}$, leading to non-zero values of $\\Delta \\omega$. Because of this resonance offset, $\\vec{M}$ precesses about the z-axis as described by:\n",
    "\n",
    "$$\\vec{M}(\\Delta \\omega, t) = M_0 \\begin{bmatrix} \n",
    "e^{-t/T_2}\\sin\\theta_1\\sin(\\Delta \\omega t)  \\\\ \n",
    "e^{-t/T_2}\\sin\\theta_1\\cos(\\Delta \\omega t)  \\\\ \n",
    "e^{-t/T_1}\\cos\\theta_1 + (1-e^{-t/T_1}) \\end{bmatrix}$$\n",
    "\n",
    "\n",
    "where the exponential terms account for the $T_1$ and $T_2$ relaxation effects. \n",
    "\n",
    "Let's implement this expression. Below, `dw` is the angular frequency shift $\\Delta \\omega = 2\\pi \\Delta f$."
   ]
  },
  {
   "cell_type": "code",
   "execution_count": 2,
   "metadata": {},
   "outputs": [],
   "source": [
    "def calculate_magnetization(time_ms, species, flip_angle):\n",
    "    \n",
    "    # Note: the sycomore packages defines a counterclockwise rotation for positive angles, whereas \n",
    "    # Bernstein defined a clockwise rotation for positive angles. Therefore, we need to invert the rotation here. \n",
    "    # ref: https://github.com/lamyj/sycomore/blob/master/src/sycomore/isochromat/Model.cpp\n",
    "    t = np.array(time_ms)\n",
    "\n",
    "    dw =  - 2 * np.pi * species.delta_omega.convert_to(units.Hz)\n",
    "    \n",
    "    E1 = np.exp(-t/species.T1.convert_to(units.ms))\n",
    "    E2 = np.exp(-t/species.T2.convert_to(units.ms))\n",
    "\n",
    "    Mx = E2 * np.sin(flip_angle.convert_to(units.rad)) * np.sin(dw*t*1e-3)\n",
    "    My = E2 * np.sin(flip_angle.convert_to(units.rad)) * np.cos(dw*t*1e-3)\n",
    "    Mz = E1 * np.cos(flip_angle.convert_to(units.rad)) + (1 - E1)\n",
    "\n",
    "    return np.stack((Mx, My, Mz), -1)"
   ]
  },
  {
   "attachments": {},
   "cell_type": "markdown",
   "metadata": {},
   "source": [
    "We will use the expression defined in Bernstein for a frequency shift:\n",
    "\n",
    "\n",
    "$$ f = \\frac{\\gamma}{2\\pi}B_0(1-\\delta)$$\n",
    "\n",
    "Therefore, \n",
    "\n",
    "$$ \\Delta f = f_{rot} -f $$ \n",
    "\n",
    "\n",
    "Let's implement this expression. Keep in mind $\\frac{\\gamma}{2\\pi} = 42.58\\times 10^6$ Hz."
   ]
  },
  {
   "cell_type": "code",
   "execution_count": 3,
   "metadata": {},
   "outputs": [],
   "source": [
    "def get_inhomogeneity(B0=3, inhomogeneity_ppm=0.0):\n",
    "\n",
    "    # Define the gyromagnetic ratio for protons (42.58 MHz/T)\n",
    "    gyromagnetic_ratio = 42.58e6  # Hz/T\n",
    "\n",
    "    freq_rot = gyromagnetic_ratio * B0 # resonant frequency \n",
    "    freq = gyromagnetic_ratio * B0 * (1 - inhomogeneity_ppm) \n",
    "\n",
    "    delta_freq = (freq - freq_rot)*1e-6 # convert from ppm\n",
    "\n",
    "    return delta_freq*units.Hz "
   ]
  },
  {
   "attachments": {},
   "cell_type": "markdown",
   "metadata": {},
   "source": [
    "Below are some convenient functions to define the species of the spin isochromat as well as to modifty/record the magnetization state "
   ]
  },
  {
   "cell_type": "code",
   "execution_count": 4,
   "metadata": {},
   "outputs": [],
   "source": [
    "def get_species(T1, T2, delta_omega=0*units.Hz):   \n",
    "    species = sycomore.Species(T1, T2, delta_omega=delta_omega)\n",
    "    return species\n",
    "\n",
    "def update_and_record_magnetization(M, record, t, update=None):\n",
    "    if update is not None: M = update @ M\n",
    "    record.append([t.convert_to(units.ms), M[:3] / M[3]])\n",
    "    return M"
   ]
  },
  {
   "attachments": {},
   "cell_type": "markdown",
   "metadata": {},
   "source": [
    "Let's simulate a simple excitation-recovery pulse and record the spin behavior."
   ]
  },
  {
   "cell_type": "code",
   "execution_count": 5,
   "metadata": {},
   "outputs": [],
   "source": [
    "def run_simulation(T1_ms, T2_ms, flip_angle_deg, step_size_ms):\n",
    "    \n",
    "    # define species of spin isochromat\n",
    "    # ---------------------------------\n",
    "\n",
    "    delta_omega = get_inhomogeneity(B0=3, inhomogeneity_ppm=0.2)\n",
    "\n",
    "    T1 = T1_ms * units.ms\n",
    "    T2 = T2_ms * units.ms\n",
    "\n",
    "    species = get_species(T1, T2, delta_omega=-delta_omega)\n",
    "\n",
    "    # initialize the spin state \n",
    "    t = 0 * units.ms\n",
    "    M = np.array([0, 0, 1, 1])\n",
    "    record = [[t.convert_to(units.ms), M[:3] / M[3]]]\n",
    "\n",
    "    # define experiment bloacks\n",
    "    # -------------------------\n",
    "\n",
    "    # temporal resolution of experiment \n",
    "    step_size = step_size_ms * units.ms \n",
    "\n",
    "    # nothing occurs during this time\n",
    "    idle = sycomore.bloch.time_interval(species, step_size) \n",
    "\n",
    "    # excitation pulse, phase implies it is along x-axis. Vector rotates about x-axis. If flip angle is 90 degrees, vector flip to +y-axis\n",
    "    flip_angle = flip_angle_deg * units.deg\n",
    "    pulse = sycomore.bloch.pulse(flip_angle, phase=np.pi*units.rad) \n",
    "\n",
    "    # define experiment blocks\n",
    "    # ------------------------\n",
    "\n",
    "    # apply pulse\n",
    "    M = update_and_record_magnetization(M, record, t, update=pulse)\n",
    "\n",
    "    # run 100 steps \n",
    "    for _ in range(100):\n",
    "        t += step_size\n",
    "        M = update_and_record_magnetization(M, record, t, update=idle)\n",
    "\n",
    "    time, magnetization = list(zip(*record))\n",
    "\n",
    "    magnetization = np.array(magnetization).round(3)\n",
    "\n",
    "    magnetization_predicted = calculate_magnetization(time, species, flip_angle)\n",
    "\n",
    "    plt.figure(figsize=(10,5))\n",
    "    plt.subplot(121)\n",
    "    plt.plot(time, magnetization[:, 0], label=\"Species $M_x$\", color='#6AD991')\n",
    "    plt.plot(time, magnetization_predicted[:,0], label=\"Species $M_x$ Predicted\", linestyle='--', color='#F25050')\n",
    "    plt.plot(time, magnetization[:, 2], label=\"Species $M_z$\", linestyle='dotted', color='#BF1515')\n",
    "    plt.plot(time, magnetization_predicted[:,2], label=\"Species $M_z$ Predicted\", linestyle='dashdot', color='#F2668B')\n",
    "    plt.plot(time, np.linalg.norm(magnetization[:, :2], axis=-1), label=\"Species $M_\\perp$\", color='black')\n",
    "    plt.ylim(-1,1)\n",
    "    plt.legend()\n",
    "\n",
    "    plt.subplot(122)\n",
    "    plt.plot(time, magnetization[:, 1], label=\"Species $M_y$\", color='#6AD991')\n",
    "    plt.plot(time, magnetization_predicted[:,1], label=\"Species $M_y$ Predicted\", linestyle='--', color='#F25050')\n",
    "    plt.plot(time, np.linalg.norm(magnetization[:, :2], axis=-1), label=\"Species $M_\\perp$\", color='black')\n",
    "    plt.ylim(-1,1)\n",
    "    plt.legend()\n",
    "\n",
    "    plt.tight_layout()\n",
    "    plt.show()"
   ]
  },
  {
   "attachments": {},
   "cell_type": "markdown",
   "metadata": {},
   "source": [
    "As you can see in the figure below, our simulations and theoretical predictions are identical. Feel free to play around with the widget to understand the spin dynamics."
   ]
  },
  {
   "cell_type": "code",
   "execution_count": 6,
   "metadata": {},
   "outputs": [
    {
     "data": {
      "application/vnd.jupyter.widget-view+json": {
       "model_id": "215a5dd8246047be92acde66fe1b08eb",
       "version_major": 2,
       "version_minor": 0
      },
      "text/plain": [
       "interactive(children=(FloatSlider(value=1000.0, description='T1 (ms)', max=2000.0, min=100.0, step=10.0), Floa…"
      ]
     },
     "metadata": {},
     "output_type": "display_data"
    },
    {
     "data": {
      "text/plain": [
       "<function __main__.run_simulation(T1_ms, T2_ms, flip_angle_deg, step_size_ms)>"
      ]
     },
     "execution_count": 6,
     "metadata": {},
     "output_type": "execute_result"
    }
   ],
   "source": [
    "widgets.interact(\n",
    "    run_simulation,\n",
    "    T1_ms=widgets.FloatSlider(min=100, max=2000, step=10, value=1000, description='T1 (ms)'),\n",
    "    T2_ms=widgets.FloatSlider(min=10, max=200, step=1, value=100, description='T2 (ms)'),\n",
    "    flip_angle_deg=widgets.FloatSlider(min=0, max=180, step=1, value=90, description='FA 1 (deg)'),\n",
    "    step_size_ms=widgets.FloatSlider(min=0.1, max=10, step=0.1, value=1, description='Step size (ms)')\n",
    ")"
   ]
  },
  {
   "attachments": {},
   "cell_type": "markdown",
   "metadata": {},
   "source": [
    "## Part 2: Refocusing Pulse for a single spin isochromat"
   ]
  },
  {
   "attachments": {},
   "cell_type": "markdown",
   "metadata": {},
   "source": [
    "If a refocusing RF pulse with a flip angle of $\\theta_2$ is applied along the y-axis, the magnetization immediately before $\\vec{M}(\\Delta \\omega, \\tau_-)$ and immediately after $\\vec{M}(\\Delta \\omega, \\tau_+)$ the refocusing pulse are related by a rotation matrix\n",
    "\n",
    "$$\\vec{M}(\\Delta \\omega, \\tau_+) = \\begin{bmatrix} \n",
    "\\cos\\theta_2 & 0 & -\\sin\\theta_2 \\\\ \n",
    "0 & 1 & 0  \\\\ \n",
    "\\sin\\theta_2 & 0 & \\cos\\theta_2 \\end{bmatrix}\\vec{M}(\\Delta \\omega, \\tau_-)$$\n",
    "\n",
    "Let's implement this operation. Again, keep in mind that `Sycomore` has the opposite clockwise vs counterclockwise direction relative Bernstein. Therefore, we need to reverse the matrix. "
   ]
  },
  {
   "cell_type": "code",
   "execution_count": 7,
   "metadata": {},
   "outputs": [],
   "source": [
    "def calculate_magnetization_pre_refocusing(M_, species, flip_angle):\n",
    "\n",
    "    # Magnetization before refocusing pulse \n",
    "    Mx_, My_, Mz_ = M_    \n",
    "\n",
    "    cos = np.cos(flip_angle.convert_to(units.rad))\n",
    "    sin = np.sin(flip_angle.convert_to(units.rad)) \n",
    "    \n",
    "    Mx = Mx_ * cos + Mz_ * sin \n",
    "    My = My_ \n",
    "    Mz = - Mx_ * sin + Mz_ * cos \n",
    "    \n",
    "    return np.stack((Mx, My, Mz), -1)"
   ]
  },
  {
   "cell_type": "code",
   "execution_count": 8,
   "metadata": {},
   "outputs": [],
   "source": [
    "def run_simulation(T1_ms, T2_ms, flip_angle_deg, step_size_ms, flip_angle_refocus_deg=180):\n",
    "    \n",
    "    # define species of spin isochromat\n",
    "    # ---------------------------------\n",
    "\n",
    "    delta_omega = get_inhomogeneity(B0=3, inhomogeneity_ppm=0.2)\n",
    "\n",
    "    T1 = T1_ms * units.ms\n",
    "    T2 = T2_ms * units.ms\n",
    "\n",
    "    species = get_species(T1, T2, delta_omega=-delta_omega)\n",
    "\n",
    "    # initialize the spin state \n",
    "    t = 0 * units.ms\n",
    "    M = np.array([0, 0, 1, 1])\n",
    "    record = [[t.convert_to(units.ms), M[:3] / M[3]]]\n",
    "\n",
    "    # define experiment bloacks\n",
    "    # -------------------------\n",
    "\n",
    "    # temporal resolution of experiment \n",
    "    step_size = step_size_ms * units.ms \n",
    "\n",
    "    # nothing occurs during this time\n",
    "    idle = sycomore.bloch.time_interval(species, step_size) \n",
    "\n",
    "    # excitation pulse, phase implies it is along x-axis. Vector rotates about x-axis. If flip angle is 90 degrees, vector flip to +y-axis\n",
    "    flip_angle = flip_angle_deg * units.deg\n",
    "    pulse = sycomore.bloch.pulse(flip_angle, phase=np.pi*units.rad) \n",
    "\n",
    "    # define experiment blocks\n",
    "    # ------------------------\n",
    "\n",
    "    # apply pulse\n",
    "    M = update_and_record_magnetization(M, record, t, update=pulse)\n",
    "\n",
    "    # run 100 steps \n",
    "    for _ in range(100):\n",
    "        t += step_size\n",
    "        M = update_and_record_magnetization(M, record, t, update=idle)\n",
    "\n",
    "    time, magnetization = list(zip(*record))\n",
    "    print(len(time))\n",
    "    \n",
    "    if flip_angle_refocus_deg > 0:\n",
    "        # apply (e.g., 180) pulse along y direction (specified by phase), only spins off-phase rotate above y-axis\n",
    "        flip_angle_refocus = flip_angle_refocus_deg * units.deg\n",
    "        pulse_refocus = sycomore.bloch.pulse(flip_angle_refocus, phase=np.pi*units.rad/2) \n",
    "        # apply pulse\n",
    "        M = update_and_record_magnetization(M, record, t, update=pulse_refocus)\n",
    "\n",
    "    time, magnetization = list(zip(*record))\n",
    "\n",
    "    magnetization = np.array(magnetization).round(3)\n",
    "\n",
    "    magnetization_predicted_pre = calculate_magnetization(time[:-1], species, flip_angle)\n",
    "    # pass magnetization right before the refocusing pulse\n",
    "    magnetization_predicted_post = calculate_magnetization_pre_refocusing(magnetization[-2], species, flip_angle_refocus)\n",
    "\n",
    "    magnetization_predicted = np.concatenate((magnetization_predicted_pre, magnetization_predicted_post[None]))\n",
    "\n",
    "    plt.figure(figsize=(10,5))\n",
    "    plt.subplot(121)\n",
    "    plt.plot(time, magnetization[:, 0], label=\"Species $M_x$\", color='#6AD991')\n",
    "    plt.plot(time, magnetization_predicted[:,0], label=\"Species $M_x$ Predicted\", linestyle='--', color='#F25050')\n",
    "    #plt.plot(time, magnetization[:, 2], label=\"Species $M_z$\", linestyle='dotted', color='#BF1515')\n",
    "    #plt.plot(time, magnetization_predicted[:,2], label=\"Species $M_z$ Predicted\", linestyle='dashdot', color='#F2668B')\n",
    "    plt.plot(time, np.linalg.norm(magnetization[:, :2], axis=-1), label=\"Species $M_\\perp$\", color='black')\n",
    "    plt.ylim(-1,1)\n",
    "    plt.legend()\n",
    "\n",
    "    plt.subplot(122)\n",
    "    plt.plot(time, magnetization[:, 1], label=\"Species $M_y$\", color='#6AD991')\n",
    "    plt.plot(time, magnetization_predicted[:,1], label=\"Species $M_y$ Predicted\", linestyle='--', color='#F25050')\n",
    "    plt.plot(time, np.linalg.norm(magnetization[:, :2], axis=-1), label=\"Species $M_\\perp$\", color='black')\n",
    "    plt.ylim(-1,1)\n",
    "    plt.legend()\n",
    "\n",
    "    plt.tight_layout()\n",
    "    plt.show()"
   ]
  },
  {
   "attachments": {},
   "cell_type": "markdown",
   "metadata": {},
   "source": [
    "Notice below some obvious but important facts: a) because the pulse is applied along the y-axis, the vector component along the y-axis is unchanged; 2) refocusing can still occur for angles other than 180. However, note the effect on the overall amplitude. "
   ]
  },
  {
   "cell_type": "code",
   "execution_count": 9,
   "metadata": {},
   "outputs": [
    {
     "data": {
      "application/vnd.jupyter.widget-view+json": {
       "model_id": "96e3345e5d194c31be56d083125d8691",
       "version_major": 2,
       "version_minor": 0
      },
      "text/plain": [
       "interactive(children=(FloatSlider(value=1000.0, description='T1 (ms)', max=2000.0, min=100.0, step=10.0), Floa…"
      ]
     },
     "metadata": {},
     "output_type": "display_data"
    },
    {
     "data": {
      "text/plain": [
       "<function __main__.run_simulation(T1_ms, T2_ms, flip_angle_deg, step_size_ms, flip_angle_refocus_deg=180)>"
      ]
     },
     "execution_count": 9,
     "metadata": {},
     "output_type": "execute_result"
    }
   ],
   "source": [
    "widgets.interact(\n",
    "    run_simulation,\n",
    "    T1_ms=widgets.FloatSlider(min=100, max=2000, step=10, value=1000, description='T1 (ms)'),\n",
    "    T2_ms=widgets.FloatSlider(min=10, max=200, step=1, value=100, description='T2 (ms)'),\n",
    "    flip_angle_deg=widgets.FloatSlider(min=0, max=180, step=1, value=90, description='FA 1 (deg)'),\n",
    "    step_size_ms=widgets.FloatSlider(min=0.1, max=10, step=0.1, value=1.1, description='Step size (ms)'),\n",
    "    flip_angle_refocus_deg=widgets.FloatSlider(min=1, max=180, step=1, value=180, description='FA 2 (deg)')\n",
    ")"
   ]
  },
  {
   "cell_type": "code",
   "execution_count": null,
   "metadata": {},
   "outputs": [],
   "source": []
  },
  {
   "attachments": {},
   "cell_type": "markdown",
   "metadata": {},
   "source": [
    "## Part 3: Evolution after refocusing pulse for a single spin isochromat"
   ]
  },
  {
   "cell_type": "code",
   "execution_count": 10,
   "metadata": {},
   "outputs": [],
   "source": [
    "def calculate_magnetization_post_refocusing(M_post, time_ms, tau, species):\n",
    "\n",
    "    # Magnetization before refocusing pulse \n",
    "    Mx_post, My_post, Mz_post = M_post    \n",
    "\n",
    "    t = np.array(time_ms) - tau\n",
    "\n",
    "    dw =  - 2 * np.pi * species.delta_omega.convert_to(units.Hz)\n",
    "\n",
    "    E1 = np.exp(-t/species.T1.convert_to(units.ms))\n",
    "    E2 = np.exp(-t/species.T2.convert_to(units.ms))\n",
    "\n",
    "    cos = np.cos(dw * t * 1e-3)\n",
    "    sin = np.sin(dw * t * 1e-3)\n",
    "\n",
    "    Mx = E2 * (Mx_post * cos + My_post * sin)\n",
    "    My = E2 * (-Mx_post * sin + My_post * cos)\n",
    "    Mz = (1 - E1) + Mz_post * E1 \n",
    "    \n",
    "    return np.stack((Mx, My, Mz), -1)"
   ]
  },
  {
   "cell_type": "code",
   "execution_count": 11,
   "metadata": {},
   "outputs": [],
   "source": [
    "def run_simulation(T1_ms, T2_ms, flip_angle_deg, step_size_ms, flip_angle_refocus_deg=180):\n",
    "    \n",
    "    # define species of spin isochromat\n",
    "    # ---------------------------------\n",
    "\n",
    "    delta_omega = get_inhomogeneity(B0=3, inhomogeneity_ppm=0.2)\n",
    "\n",
    "    T1 = T1_ms * units.ms\n",
    "    T2 = T2_ms * units.ms\n",
    "\n",
    "    species = get_species(T1, T2, delta_omega=-delta_omega)\n",
    "\n",
    "    # initialize the spin state \n",
    "    t = 0 * units.ms\n",
    "    M = np.array([0, 0, 1, 1])\n",
    "    record = [[t.convert_to(units.ms), M[:3] / M[3]]]\n",
    "\n",
    "    # define experiment bloacks\n",
    "    # -------------------------\n",
    "\n",
    "    # temporal resolution of experiment \n",
    "    step_size = step_size_ms * units.ms \n",
    "\n",
    "    # nothing occurs during this time\n",
    "    idle = sycomore.bloch.time_interval(species, step_size) \n",
    "\n",
    "    # excitation pulse, phase implies it is along x-axis. Vector rotates about x-axis. If flip angle is 90 degrees, vector flip to +y-axis\n",
    "    flip_angle = flip_angle_deg * units.deg\n",
    "    pulse = sycomore.bloch.pulse(flip_angle, phase=np.pi*units.rad) \n",
    "\n",
    "    # define experiment blocks\n",
    "    # ------------------------\n",
    "\n",
    "    # apply pulse\n",
    "    M = update_and_record_magnetization(M, record, t, update=pulse)\n",
    "\n",
    "    # run 100 steps \n",
    "    for _ in range(100):\n",
    "        t += step_size\n",
    "        M = update_and_record_magnetization(M, record, t, update=idle)\n",
    "\n",
    "    time, magnetization = list(zip(*record))\n",
    "\n",
    "    # refocusing\n",
    "    # ----------\n",
    "\n",
    "    # apply (e.g., 180) pulse along y direction (specified by phase), only spins off-phase rotate above y-axis\n",
    "    flip_angle_refocus = flip_angle_refocus_deg * units.deg\n",
    "    pulse_refocus = sycomore.bloch.pulse(flip_angle_refocus, phase=np.pi*units.rad/2) \n",
    "    # apply pulse\n",
    "    tau = t.convert_to(units.ms)\n",
    "    M = update_and_record_magnetization(M, record, t, update=pulse_refocus)\n",
    "\n",
    "    # let's get the magnetization up to this point here\n",
    "    time, magnetization = list(zip(*record))\n",
    "\n",
    "    magnetization = np.array(magnetization).round(3)\n",
    "\n",
    "    magnetization_predicted_pre = calculate_magnetization(time[:-1], species, flip_angle)\n",
    "    # pass magnetization right before the refocusing pulse\n",
    "    magnetization_predicted_post = calculate_magnetization_pre_refocusing(magnetization[-2], species, flip_angle_refocus)\n",
    "\n",
    "    magnetization_predicted = np.concatenate((magnetization_predicted_pre, magnetization_predicted_post[None]))\n",
    "    \n",
    "\n",
    "    # run another 100 steps \n",
    "    for _ in range(100):\n",
    "        t += step_size\n",
    "        M = update_and_record_magnetization(M, record, t, update=idle)\n",
    "\n",
    "    # let's get the magnetization up to this point here\n",
    "    time, magnetization = list(zip(*record))\n",
    "    \n",
    "    magnetization = np.array(magnetization).round(3)\n",
    "    \n",
    "    # get magnetization for the 100 steps after the refocusing pulse\n",
    "    magnetization_post_refocus = calculate_magnetization_post_refocusing(magnetization_predicted_post, time[-100:], tau, species)\n",
    "\n",
    "    magnetization_predicted = np.concatenate((magnetization_predicted, magnetization_post_refocus))\n",
    "\n",
    "    plt.figure(figsize=(10,5))\n",
    "    plt.subplot(121)\n",
    "    plt.plot(time, magnetization[:, 0], label=\"Species $M_x$\", color='#6AD991')\n",
    "    plt.plot(time, magnetization_predicted[:,0], label=\"Species $M_x$ Predicted\", linestyle='--', color='#F25050')\n",
    "    plt.plot(time, magnetization[:, 2], label=\"Species $M_z$\", linestyle='dotted', color='#BF1515')\n",
    "    plt.plot(time, magnetization_predicted[:,2], label=\"Species $M_z$ Predicted\", linestyle='dashdot', color='#F2668B')\n",
    "    plt.plot(time, np.linalg.norm(magnetization[:, :2], axis=-1), label=\"Species $M_\\perp$\", color='black')\n",
    "    plt.ylim(-1,1)\n",
    "    plt.legend()\n",
    "\n",
    "    plt.subplot(122)\n",
    "    plt.plot(time, magnetization[:, 1], label=\"Species $M_y$\", color='#6AD991')\n",
    "    plt.plot(time, magnetization_predicted[:,1], label=\"Species $M_y$ Predicted\", linestyle='--', color='#F25050')\n",
    "    plt.plot(time, np.linalg.norm(magnetization[:, :2], axis=-1), label=\"Species $M_\\perp$\", color='black')\n",
    "    plt.ylim(-1,1)\n",
    "    plt.legend()\n",
    "\n",
    "    plt.tight_layout()\n",
    "    plt.show()"
   ]
  },
  {
   "attachments": {},
   "cell_type": "markdown",
   "metadata": {},
   "source": [
    "Note that, although the direction of the y-component doesn't change after we apply the refocusing pulse, the direction is reversed. "
   ]
  },
  {
   "cell_type": "code",
   "execution_count": 12,
   "metadata": {},
   "outputs": [
    {
     "data": {
      "application/vnd.jupyter.widget-view+json": {
       "model_id": "929ea4fc27414f7d94aea1a91e431a4a",
       "version_major": 2,
       "version_minor": 0
      },
      "text/plain": [
       "interactive(children=(FloatSlider(value=1000.0, description='T1 (ms)', max=2000.0, min=100.0, step=10.0), Floa…"
      ]
     },
     "metadata": {},
     "output_type": "display_data"
    },
    {
     "data": {
      "text/plain": [
       "<function __main__.run_simulation(T1_ms, T2_ms, flip_angle_deg, step_size_ms, flip_angle_refocus_deg=180)>"
      ]
     },
     "execution_count": 12,
     "metadata": {},
     "output_type": "execute_result"
    }
   ],
   "source": [
    "widgets.interact(\n",
    "    run_simulation,\n",
    "    T1_ms=widgets.FloatSlider(min=100, max=2000, step=10, value=1000, description='T1 (ms)'),\n",
    "    T2_ms=widgets.FloatSlider(min=10, max=200, step=1, value=100, description='T2 (ms)'),\n",
    "    flip_angle_deg=widgets.FloatSlider(min=0, max=180, step=1, value=90, description='FA 1 (deg)'),\n",
    "    step_size_ms=widgets.FloatSlider(min=0.1, max=10, step=0.1, value=1.1, description='Step size (ms)'),\n",
    "    flip_angle_refocus_deg=widgets.FloatSlider(min=1, max=180, step=1, value=180, description='FA 2 (deg)')\n",
    ")"
   ]
  },
  {
   "cell_type": "code",
   "execution_count": null,
   "metadata": {},
   "outputs": [],
   "source": []
  },
  {
   "cell_type": "code",
   "execution_count": null,
   "metadata": {},
   "outputs": [],
   "source": []
  },
  {
   "attachments": {},
   "cell_type": "markdown",
   "metadata": {},
   "source": [
    "## Part 4: Spin behavior of two spin isochromats\n",
    "\n",
    "So far we have dealt with a single isochromat to compare simulated and theoretial spin behavior. We will now explore the behavior of two spins."
   ]
  },
  {
   "cell_type": "code",
   "execution_count": 13,
   "metadata": {},
   "outputs": [],
   "source": [
    "def run_simulation(T1_ms, T2_ms, flip_angle_deg):\n",
    "    \n",
    "    delta_omega = get_inhomogeneity(B0=3, inhomogeneity_ppm=6.283)\n",
    "\n",
    "    T1 = T1_ms * units.ms\n",
    "    T2 = T2_ms * units.ms\n",
    "\n",
    "    species_A = get_species(T1, T2, delta_omega=-delta_omega)\n",
    "    species_B = get_species(T1, T2, delta_omega=delta_omega)\n",
    "\n",
    "    flip_angle = flip_angle_deg * units.deg\n",
    "\n",
    "    # temporal resolution of experiment \n",
    "    step_size = 10 * units.ms \n",
    "\n",
    "    # nothing occurs during this time\n",
    "    idle_A = sycomore.bloch.time_interval(species_A, step_size)\n",
    "    idle_B = sycomore.bloch.time_interval(species_B, step_size) \n",
    "\n",
    "    pulse = sycomore.bloch.pulse(flip_angle)\n",
    "\n",
    "    # initialize the spins\n",
    "    t = 0 * units.s\n",
    "\n",
    "    M_A = np.array([0, 0, 1, 1])\n",
    "    M_B = np.array([0, 0, 1, 1])\n",
    "\n",
    "    record_A = [[t.convert_to(units.ms), M_A[:3] / M_A[3]]]\n",
    "    record_B = [[t.convert_to(units.ms), M_B[:3] / M_B[3]]]\n",
    "\n",
    "    # Update and record magnetization for the first 10 steps\n",
    "    for _ in range(10):\n",
    "        t += 10 * units.ms\n",
    "        M_A = update_and_record_magnetization(M_A, record_A, t, update=idle_A)\n",
    "        M_B = update_and_record_magnetization(M_B, record_B, t, update=idle_B)\n",
    "\n",
    "    # Apply the pulse and record the magnetization\n",
    "    M_A = update_and_record_magnetization(M_A, record_A, t, update=pulse)\n",
    "    M_B = update_and_record_magnetization(M_B, record_B, t, update=pulse)\n",
    "    # Update and record magnetization for the next 100 steps\n",
    "    for _ in range(100):\n",
    "        t += 10 * units.ms\n",
    "        \n",
    "        M_A = update_and_record_magnetization(M_A, record_A, t, update=idle_A)\n",
    "        M_B = update_and_record_magnetization(M_B, record_B, t, update=idle_B)\n",
    "\n",
    "    time, magnetization_A = list(zip(*record_A))\n",
    "    time, magnetization_B = list(zip(*record_B))\n",
    "    magnetization_A = np.array(magnetization_A)\n",
    "    magnetization_B = np.array(magnetization_B)\n",
    "    magnetization_C = (magnetization_A + magnetization_B) / 2.0\n",
    "\n",
    "    fig, ax = plt.subplots(1,2,figsize=(20,10))\n",
    "    ax[0].plot(time, np.linalg.norm(magnetization_A[:, :2], axis=-1), label=\"Species A $M_\\perp$\")\n",
    "    ax[0].plot(time, magnetization_A[:, 2], label=\"Species A $M_z$\")\n",
    "    ax[0].plot(time, np.linalg.norm(magnetization_B[:, :2], axis=-1), label=\"Species B $M_\\perp$\", linestyle='--')\n",
    "    ax[0].plot(time, magnetization_B[:, 2], label=\"Species B $M_z$\", linestyle='--')\n",
    "    ax[0].plot(time, np.linalg.norm(magnetization_C[:, :2], axis=-1), label=\"Species C $M_\\perp$\", linestyle='--')\n",
    "    ax[0].plot(time, magnetization_C[:, 2], label=\"Species C $M_z$\", linestyle='--')\n",
    "    ax[0].set_xlim(0)\n",
    "\n",
    "    ax[0].set_xlabel(\"Time (ms)\")\n",
    "    ax[0].set_ylabel(\"$M/M_0$\")\n",
    "\n",
    "\n",
    "    for time_id in range(10, 30):\n",
    "        \n",
    "        ax[1].plot([0, magnetization_A[time_id, 0]], [0, magnetization_A[time_id, 1]], color='black')\n",
    "        ax[1].plot([0, magnetization_B[time_id, 0]], [0, magnetization_B[time_id, 1]], color='red')\n",
    "        \n",
    "        if time_id==11: \n",
    "            ax[1].text(magnetization_A[time_id, 0]+0.05, magnetization_A[time_id, 1]-0.1, 't = %.2f ms'%(time[time_id]), fontsize=18)\n",
    "        if time_id==21: \n",
    "            ax[1].text(magnetization_A[time_id, 0]+0.05, magnetization_A[time_id, 1]-0.1, 't = %.2f ms'%(time[time_id]), fontsize=18)\n",
    "        if time_id==29: \n",
    "            ax[1].text(magnetization_A[time_id, 0], magnetization_A[time_id, 1]+0.1, 't = %.2f ms'%(time[time_id]), fontsize=18)\n",
    "        \n",
    "    ax[1].annotate(\"\", xy=(0, -1.25), xytext=(0, 0),\n",
    "                arrowprops=dict(arrowstyle=\"->\"))\n",
    "    ax[1].annotate(\"\", xy=(1.25, 0), xytext=(0, 0),\n",
    "                arrowprops=dict(arrowstyle=\"->\"))\n",
    "\n",
    "    plt.legend([\"Species A $M_\\perp$\", \"Species B $M_\\perp$\"])\n",
    "    plt.ylim(-1.5, 1.5)\n",
    "    plt.xlim(-1.5, 1.5)\n",
    "    plt.show()\n"
   ]
  },
  {
   "attachments": {},
   "cell_type": "markdown",
   "metadata": {},
   "source": [
    "In the figure below, the magnitude of the transverse magnetization of each species has the same decay. However, experimentally, we measure the combined signal of all spins. Note that the combined transverse magnetization has much faster decay. Note the time where the signal reaches a local minima, and where it reaches a local maxima. These are spin echos. Let's visualize the rotation of each spin to further understand this behavior. "
   ]
  },
  {
   "cell_type": "code",
   "execution_count": 14,
   "metadata": {},
   "outputs": [
    {
     "data": {
      "application/vnd.jupyter.widget-view+json": {
       "model_id": "7ae63b6745c94689a7c2265476131253",
       "version_major": 2,
       "version_minor": 0
      },
      "text/plain": [
       "interactive(children=(FloatSlider(value=1000.0, description='T1 (ms)', max=2000.0, min=100.0, step=10.0), Floa…"
      ]
     },
     "metadata": {},
     "output_type": "display_data"
    },
    {
     "data": {
      "text/plain": [
       "<function __main__.run_simulation(T1_ms, T2_ms, flip_angle_deg)>"
      ]
     },
     "execution_count": 14,
     "metadata": {},
     "output_type": "execute_result"
    }
   ],
   "source": [
    "widgets.interact(\n",
    "    run_simulation,\n",
    "    T1_ms=widgets.FloatSlider(min=100, max=2000, step=10, value=1000, description='T1 (ms)'),\n",
    "    T2_ms=widgets.FloatSlider(min=10, max=600, step=1, value=100, description='T2 (ms)'),\n",
    "    flip_angle_deg=widgets.FloatSlider(min=0, max=180, step=1, value=90, description='FA 1 (deg)')\n",
    ")"
   ]
  },
  {
   "attachments": {},
   "cell_type": "markdown",
   "metadata": {},
   "source": [
    "## Part 4: Refocusing pulse for two spin isochromats\n",
    "\n",
    "So far we have dealt with a single isochromat to compare simulated and theoretial spin behavior. We will now explore the behaviro for two spins: "
   ]
  },
  {
   "cell_type": "code",
   "execution_count": 15,
   "metadata": {},
   "outputs": [],
   "source": [
    "def run_simulation(T1_ms, T2_ms, flip_angle_deg, step_size_mm, n_species):\n",
    "    \n",
    "    delta_omega = get_inhomogeneity(B0=3, inhomogeneity_ppm=1)\n",
    "\n",
    "    T1 = T1_ms * units.ms\n",
    "    T2 = T2_ms * units.ms\n",
    "\n",
    "    species_ensemble = [get_species(T1, T2, delta_omega=delta_omega*np.random.randn()) for _ in range(n_species)]\n",
    "\n",
    "    flip_angle = flip_angle_deg * units.deg\n",
    "\n",
    "    # temporal resolution of experiment \n",
    "    step_size = step_size_mm * units.ms \n",
    "    \n",
    "    # nothing occurs during this time\n",
    "    idles = [sycomore.bloch.time_interval(species, step_size) for species in species_ensemble]\n",
    "\n",
    "    pulse = sycomore.bloch.pulse(flip_angle)\n",
    "\n",
    "    # initialize the spins\n",
    "    t = 0 * units.s\n",
    "\n",
    "    M = [np.array([0, 0, 1, 1]) for _ in range(n_species)]\n",
    "\n",
    "    records = [[[t.convert_to(units.ms), m[:3] / m[3]]] for m in M]\n",
    "\n",
    "    # Update and record magnetization for the first 10 steps\n",
    "    for _ in range(10):\n",
    "        t += step_size\n",
    "        for k in range(n_species):\n",
    "            M[k] = update_and_record_magnetization(M[k], records[k], t, update=idles[k])\n",
    "\n",
    "    for k in range(n_species):\n",
    "        M[k] = update_and_record_magnetization(M[k], records[k], t, update=pulse)\n",
    "\n",
    "    # Update and record magnetization for the next 100 steps\n",
    "    for _ in range(100):\n",
    "        t += step_size\n",
    "        for k in range(n_species):\n",
    "            M[k] = update_and_record_magnetization(M[k], records[k], t, update=idles[k])\n",
    "\n",
    "  #  records = np.stack(records)\n",
    "\n",
    "    return records"
   ]
  },
  {
   "cell_type": "code",
   "execution_count": null,
   "metadata": {},
   "outputs": [],
   "source": []
  },
  {
   "cell_type": "code",
   "execution_count": 16,
   "metadata": {},
   "outputs": [],
   "source": [
    "def calculate_magnetization_post_refocusing(M_post, time_ms, tau, species):\n",
    "\n",
    "    # Magnetization before refocusing pulse \n",
    "    Mx_post, My_post, Mz_post = M_post    \n",
    "\n",
    "    t = np.array(time_ms) - tau\n",
    "\n",
    "    dw =  - 2 * np.pi * species.delta_omega.convert_to(units.Hz)\n",
    "\n",
    "    E1 = np.exp(-t/species.T1.convert_to(units.ms))\n",
    "    E2 = np.exp(-t/species.T2.convert_to(units.ms))\n",
    "\n",
    "    cos = np.cos(dw * t * 1e-3)\n",
    "    sin = np.sin(dw * t * 1e-3)\n",
    "\n",
    "    Mx = E2 * (Mx_post * cos + My_post * sin)\n",
    "    My = E2 * (-Mx_post * sin + My_post * cos)\n",
    "    Mz = (1 - E1) + Mz_post * E1 \n",
    "    \n",
    "    return np.stack((Mx, My, Mz), -1)\n",
    "\n",
    "def run_simulation(T1_ms, T2_ms, flip_angle_deg, step_size_ms, n_species):\n",
    "    \n",
    "    delta_omega = get_inhomogeneity(B0=3, inhomogeneity_ppm=-0.2)\n",
    "\n",
    "    T1 = T1_ms * units.ms\n",
    "    T2 = T2_ms * units.ms\n",
    "    n_species = int(n_species)\n",
    "\n",
    "    species_baseline = [get_species(T1, T2, delta_omega=-delta_omega)]\n",
    "    species_ensemble = species_baseline + [get_species(T1, T2, delta_omega=delta_omega*np.random.randn()) for _ in range(n_species-1)]\n",
    "\n",
    "    # temporal resolution of experiment \n",
    "    step_size = step_size_ms * units.ms \n",
    "\n",
    "    # nothing occurs during this time\n",
    "    idles = [sycomore.bloch.time_interval(species, step_size) for species in species_ensemble]\n",
    "\n",
    "    pulse = sycomore.bloch.pulse(flip_angle_deg * units.deg, phase=np.pi*units.rad)\n",
    "\n",
    "    flip_angle_refocus_deg = 180\n",
    "    pulse_refocus = sycomore.bloch.pulse(flip_angle_refocus_deg * units.deg, phase=np.pi*units.rad/2) \n",
    "\n",
    "    # initialize the spins\n",
    "    t = 0 * units.s\n",
    "\n",
    "    M = [np.array([0, 0, 1, 1]) for _ in range(n_species)]\n",
    "\n",
    "    records = [[[t.convert_to(units.ms), m[:3] / m[3]]] for m in M]\n",
    "\n",
    "    for k in range(n_species):\n",
    "        M[k] = update_and_record_magnetization(M[k], records[k], t, update=pulse)\n",
    "\n",
    "    # Update and record magnetization for the next 100 steps\n",
    "    for _ in range(100):\n",
    "        t += step_size\n",
    "        for k in range(n_species):\n",
    "            M[k] = update_and_record_magnetization(M[k], records[k], t, update=idles[k])\n",
    "\n",
    "    # apply 180 degree refocusing pulse\n",
    "    tau = t.convert_to(units.ms)\n",
    "    for k in range(n_species):\n",
    "        M[k] = update_and_record_magnetization(M[k], records[k], t, update=pulse_refocus)\n",
    "\n",
    "    # Update and record magnetization for the next 100 steps\n",
    "    for _ in range(300):\n",
    "        t += step_size\n",
    "        for k in range(n_species):\n",
    "            M[k] = update_and_record_magnetization(M[k], records[k], t, update=idles[k])\n",
    "            \n",
    "    magnetization = []\n",
    "    #magnetization_predicted = []\n",
    "    for species, record in zip(species_ensemble[::-1], records[::-1]):\n",
    "        time, magnetization_k = list(zip(*record))\n",
    "        magnetization_k = np.array(magnetization_k)\n",
    "\n",
    "        #M_pred = calculate_magnetization_post_refocusing(M_post=magnetization_k[-300], time_ms=time[-300:], tau=tau, species=species)\n",
    "        #magnetization_predicted.append(M_pred)\n",
    "        magnetization.append(np.array(magnetization_k))\n",
    "\n",
    "    magnetization = np.stack(magnetization).mean(axis=0)\n",
    "    #magnetization_predicted = np.stack(magnetization_predicted).mean(axis=0)\n",
    "\n",
    "    \n",
    "\n",
    "    fig, ax = plt.subplots(1,2,figsize=(20,10))\n",
    "    fontsize = 20\n",
    "    for label, j in zip(['M_x', 'M_y'], [0, 1]):\n",
    "        ax[j].plot(time, np.linalg.norm(magnetization_k[:, :2], axis=-1), label=\"Species k $M_\\perp$\", color='black', linewidth=4)\n",
    "        ax[j].plot(time, np.linalg.norm(magnetization[:, :2], axis=-1), label=\"Species Ensemble $M_\\perp$\", color='#F25050', linewidth=4, linestyle='--')\n",
    "        #ax[j].plot(time[-300:], np.linalg.norm(magnetization_predicted[:, :2], axis=-1), label=\"Species Ensemble Pred $M_\\perp$\", color='blue', linewidth=4, linestyle='--')\n",
    "        ax[j].plot(time, magnetization_k[:, j], label=\"Species k $%s$\"%(label), color='black', linewidth=1)\n",
    "        ax[j].plot(time, magnetization[:, j], label=\"Species Ensemble $%s$\"%(label), color='#F25050', linewidth=1, linestyle='--')\n",
    "        #ax[j].plot(time[-300:], magnetization_predicted[:, j], label=\"Species Ensemble Pred $%s$\"%(label), color='blue', linewidth=1, linestyle='--')\n",
    "        ax[j].axvline(x=tau, color='gray', linestyle='--', alpha=0.5)\n",
    "        ax[j].axvline(x=tau*2, color='gray', linestyle='--', alpha=0.5)\n",
    "        ax[j].text(tau, -0.8, 'TE/2', fontsize=fontsize)\n",
    "        ax[j].text(tau*2, -0.8, 'TE', fontsize=fontsize)\n",
    "        ax[j].set_xlabel(\"Time (ms)\", fontsize=fontsize)\n",
    "        ax[j].set_ylabel(\"$M/M_0$\", fontsize=fontsize)\n",
    "        ax[j].legend(loc='best', fontsize='large')\n",
    "        ax[j].set_ylim(-1,1)\n",
    "\n",
    "    plt.show()"
   ]
  },
  {
   "cell_type": "code",
   "execution_count": 17,
   "metadata": {},
   "outputs": [
    {
     "data": {
      "application/vnd.jupyter.widget-view+json": {
       "model_id": "9b80eea5ef794283bd4969141aeba798",
       "version_major": 2,
       "version_minor": 0
      },
      "text/plain": [
       "interactive(children=(FloatSlider(value=1000.0, description='T1 (ms)', max=2000.0, min=100.0, step=10.0), Floa…"
      ]
     },
     "metadata": {},
     "output_type": "display_data"
    },
    {
     "data": {
      "text/plain": [
       "<function __main__.run_simulation(T1_ms, T2_ms, flip_angle_deg, step_size_ms, n_species)>"
      ]
     },
     "execution_count": 17,
     "metadata": {},
     "output_type": "execute_result"
    }
   ],
   "source": [
    "widgets.interact(\n",
    "    run_simulation,\n",
    "    T1_ms=widgets.FloatSlider(min=100, max=2000, step=10, value=1000, description='T1 (ms)'),\n",
    "    T2_ms=widgets.FloatSlider(min=10, max=200, step=1, value=88, description='T2 (ms)'),\n",
    "    flip_angle_deg=widgets.FloatSlider(min=0, max=180, step=1, value=90, description='FA 1 (deg)'),\n",
    "    step_size_ms=widgets.FloatSlider(min=0.1, max=10, step=0.1, value=0.7, description='Step size (ms)'),\n",
    "    n_species=widgets.FloatSlider(min=1, max=1000, step=1, value=1000, description='n spins')\n",
    ")"
   ]
  },
  {
   "cell_type": "code",
   "execution_count": null,
   "metadata": {},
   "outputs": [],
   "source": []
  },
  {
   "cell_type": "code",
   "execution_count": null,
   "metadata": {},
   "outputs": [],
   "source": []
  },
  {
   "cell_type": "code",
   "execution_count": null,
   "metadata": {},
   "outputs": [],
   "source": []
  }
 ],
 "metadata": {
  "kernelspec": {
   "display_name": "DL",
   "language": "python",
   "name": "python3"
  },
  "language_info": {
   "codemirror_mode": {
    "name": "ipython",
    "version": 3
   },
   "file_extension": ".py",
   "mimetype": "text/x-python",
   "name": "python",
   "nbconvert_exporter": "python",
   "pygments_lexer": "ipython3",
   "version": "3.7.12"
  },
  "orig_nbformat": 4,
  "vscode": {
   "interpreter": {
    "hash": "f0d150f794bfc5794d86731e6f2bb39e71687c9919f7e98cd7bae3cdcd0a1692"
   }
  }
 },
 "nbformat": 4,
 "nbformat_minor": 2
}
